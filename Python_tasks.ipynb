{
  "nbformat": 4,
  "nbformat_minor": 0,
  "metadata": {
    "colab": {
      "provenance": []
    },
    "kernelspec": {
      "name": "python3",
      "display_name": "Python 3"
    },
    "language_info": {
      "name": "python"
    }
  },
  "cells": [
    {
      "cell_type": "code",
      "execution_count": 1,
      "metadata": {
        "colab": {
          "base_uri": "https://localhost:8080/"
        },
        "id": "8s-e9WNa5npC",
        "outputId": "e62cb6bc-8ccf-4b44-a8e3-5dc17c6d88b2"
      },
      "outputs": [
        {
          "output_type": "stream",
          "name": "stdout",
          "text": [
            "[2 3 4]\n"
          ]
        }
      ],
      "source": [
        "import numpy as np\n",
        "arr = np.array([1, 2, 3, 4, 5, 6])\n",
        "print(arr[1:4])\n"
      ]
    },
    {
      "cell_type": "code",
      "source": [
        "import pandas as pd\n",
        "df = pd.DataFrame({'A': [1, 2, 3, 4], 'B': [5, 6, 7, 8]})\n",
        "print(df.loc[1:3])\n",
        "print(df.iloc[:, 0])\n"
      ],
      "metadata": {
        "colab": {
          "base_uri": "https://localhost:8080/"
        },
        "id": "ieaEUo_C7CwQ",
        "outputId": "ba7c60d5-6391-4682-fbb7-cc08eebbd57b"
      },
      "execution_count": 2,
      "outputs": [
        {
          "output_type": "stream",
          "name": "stdout",
          "text": [
            "   A  B\n",
            "1  2  6\n",
            "2  3  7\n",
            "3  4  8\n",
            "0    1\n",
            "1    2\n",
            "2    3\n",
            "3    4\n",
            "Name: A, dtype: int64\n"
          ]
        }
      ]
    },
    {
      "cell_type": "code",
      "source": [
        "import sqlite3\n",
        "con = sqlite3.connect(\":memory:\")\n",
        "cursor = con.cursor()\n",
        "cursor.execute(\"CREATE TABLE users (id INTEGER PRIMARY KEY, name TEXT)\")\n",
        "cursor.execute(\"INSERT INTO users (name) VALUES ('Alice'), ('Bob')\")\n",
        "con.commit()\n",
        "cursor.execute(\"SELECT * FROM users\")\n",
        "print(cursor.fetchall())\n"
      ],
      "metadata": {
        "colab": {
          "base_uri": "https://localhost:8080/"
        },
        "id": "GqI2zxIf7Cyv",
        "outputId": "48d0da86-2a49-4e27-9597-e6fc04a5cf56"
      },
      "execution_count": 4,
      "outputs": [
        {
          "output_type": "stream",
          "name": "stdout",
          "text": [
            "[(1, 'Alice'), (2, 'Bob')]\n"
          ]
        }
      ]
    },
    {
      "cell_type": "code",
      "source": [
        "cursor.execute(\"INSERT INTO users (name) VALUES ('Charlie')\")\n",
        "con.commit()\n"
      ],
      "metadata": {
        "id": "5XHYen-g7C1f"
      },
      "execution_count": 6,
      "outputs": []
    },
    {
      "cell_type": "code",
      "source": [
        "cursor.execute(\"CREATE TABLE orders (id INTEGER PRIMARY KEY, user_id INTEGER, product TEXT)\")\n",
        "cursor.execute(\"INSERT INTO orders (user_id, product) VALUES (1, 'Laptop'), (2, 'Phone')\")\n",
        "con.commit()\n",
        "\n",
        "cursor.execute(\"\"\"\n",
        "    SELECT users.name, orders.product\n",
        "    FROM users\n",
        "    JOIN orders ON users.id = orders.user_id\n",
        "\"\"\")\n",
        "print(cursor.fetchall())\n"
      ],
      "metadata": {
        "colab": {
          "base_uri": "https://localhost:8080/"
        },
        "id": "j8OKulDk7C4F",
        "outputId": "5263f213-a55b-46a9-95b2-ebedf893a9cd"
      },
      "execution_count": 7,
      "outputs": [
        {
          "output_type": "stream",
          "name": "stdout",
          "text": [
            "[('Alice', 'Laptop'), ('Bob', 'Phone')]\n"
          ]
        }
      ]
    },
    {
      "cell_type": "code",
      "source": [
        "df = pd.DataFrame({'A': [1, 2, 2, 3], 'B': ['X', 'Y', 'Y', 'Z']})\n",
        "duplicates = df[df.duplicated()]\n",
        "print(duplicates)\n"
      ],
      "metadata": {
        "colab": {
          "base_uri": "https://localhost:8080/"
        },
        "id": "Z33NvNA09HVK",
        "outputId": "5a72402d-c167-4e45-aff7-c06c63198a19"
      },
      "execution_count": 8,
      "outputs": [
        {
          "output_type": "stream",
          "name": "stdout",
          "text": [
            "   A  B\n",
            "2  2  Y\n"
          ]
        }
      ]
    },
    {
      "cell_type": "code",
      "source": [
        "cursor.execute(\"SELECT * FROM users WHERE name = 'Alice'\")\n",
        "print(cursor.fetchall())\n"
      ],
      "metadata": {
        "colab": {
          "base_uri": "https://localhost:8080/"
        },
        "id": "MgltYLvd7C6h",
        "outputId": "e6375f47-0beb-44ce-f672-8ff1fd591c8b"
      },
      "execution_count": 9,
      "outputs": [
        {
          "output_type": "stream",
          "name": "stdout",
          "text": [
            "[(1, 'Alice')]\n"
          ]
        }
      ]
    },
    {
      "cell_type": "code",
      "source": [
        "cursor.execute(\"DELETE FROM users\")\n",
        "con.commit()\n"
      ],
      "metadata": {
        "id": "tZpttfQh9jpq"
      },
      "execution_count": 10,
      "outputs": []
    },
    {
      "cell_type": "code",
      "source": [
        "cursor.execute(\"DELETE FROM users WHERE name='Bob'\")\n",
        "con.commit()\n"
      ],
      "metadata": {
        "id": "HInd_SLD9qFj"
      },
      "execution_count": 12,
      "outputs": []
    },
    {
      "cell_type": "code",
      "source": [
        "class Car:\n",
        "    def __init__(self, brand, model):\n",
        "        self.brand = brand\n",
        "        self.model = model\n",
        "    def display_info(self):\n",
        "        print(f\"Car: {self.brand} {self.model}\")\n",
        "car1 = Car(\"Toyota\", \"Camry\")\n",
        "car1.display_info()\n"
      ],
      "metadata": {
        "colab": {
          "base_uri": "https://localhost:8080/"
        },
        "id": "0mcJNXNH9jV6",
        "outputId": "af80c7e9-f153-4321-d25b-6843f903304c"
      },
      "execution_count": 13,
      "outputs": [
        {
          "output_type": "stream",
          "name": "stdout",
          "text": [
            "Car: Toyota Camry\n"
          ]
        }
      ]
    },
    {
      "cell_type": "code",
      "source": [
        "class Vehicle:\n",
        "    def __init__(self, brand):\n",
        "        self.brand = brand\n",
        "    def show_brand(self):\n",
        "        print(f\"Brand: {self.brand}\")\n",
        "class Car(Vehicle):\n",
        "    def __init__(self, brand, model):\n",
        "        super().__init__(brand)\n",
        "        self.model = model\n",
        "    def show_model(self):\n",
        "        print(f\"Model: {self.model}\")\n",
        "car2 = Car(\"Honda\", \"Civic\")\n",
        "car2.show_brand()\n",
        "car2.show_model()\n"
      ],
      "metadata": {
        "colab": {
          "base_uri": "https://localhost:8080/"
        },
        "id": "FbkxaycY7C9N",
        "outputId": "4c06c32a-7879-432e-8e35-48a925f06eed"
      },
      "execution_count": 14,
      "outputs": [
        {
          "output_type": "stream",
          "name": "stdout",
          "text": [
            "Brand: Honda\n",
            "Model: Civic\n"
          ]
        }
      ]
    },
    {
      "cell_type": "code",
      "source": [
        "class BankAccount:\n",
        "    def __init__(self, balance):\n",
        "        self.__balance = balance\n",
        "    def deposit(self, amount):\n",
        "        self.__balance += amount\n",
        "    def get_balance(self):\n",
        "        return self.__balance\n",
        "account = BankAccount(1000)\n",
        "account.deposit(500)\n",
        "print(account.get_balance())\n"
      ],
      "metadata": {
        "colab": {
          "base_uri": "https://localhost:8080/"
        },
        "id": "f60qeRvN7C_o",
        "outputId": "ccfa7f32-122c-4326-e122-0e18c16e19a6"
      },
      "execution_count": 15,
      "outputs": [
        {
          "output_type": "stream",
          "name": "stdout",
          "text": [
            "1500\n"
          ]
        }
      ]
    },
    {
      "cell_type": "code",
      "source": [
        "class Animal:\n",
        "    def speak(self):\n",
        "        pass\n",
        "class Dog(Animal):\n",
        "    def speak(self):\n",
        "        return \"Woof!\"\n",
        "class Cat(Animal):\n",
        "    def speak(self):\n",
        "        return \"Meow!\"\n",
        "animals = [Dog(), Cat()]\n",
        "for animal in animals:\n",
        "    print(animal.speak())\n"
      ],
      "metadata": {
        "colab": {
          "base_uri": "https://localhost:8080/"
        },
        "id": "IPqTH3ug7DCi",
        "outputId": "c1e1004c-03c3-4aa2-b03b-f154d42132f8"
      },
      "execution_count": 16,
      "outputs": [
        {
          "output_type": "stream",
          "name": "stdout",
          "text": [
            "Woof!\n",
            "Meow!\n"
          ]
        }
      ]
    },
    {
      "cell_type": "code",
      "source": [
        "from abc import ABC, abstractmethod\n",
        "class Shape(ABC):\n",
        "    @abstractmethod\n",
        "    def area(self):\n",
        "        pass\n",
        "class Square(Shape):\n",
        "    def __init__(self, side):\n",
        "        self.side = side\n",
        "    def area(self):\n",
        "        return self.side * self.side\n",
        "sq = Square(4)\n",
        "print(sq.area())\n"
      ],
      "metadata": {
        "colab": {
          "base_uri": "https://localhost:8080/"
        },
        "id": "qxRtHu_E7DFI",
        "outputId": "297b1a63-cb1c-4e7b-9348-c68ba96b44de"
      },
      "execution_count": 17,
      "outputs": [
        {
          "output_type": "stream",
          "name": "stdout",
          "text": [
            "16\n"
          ]
        }
      ]
    }
  ]
}